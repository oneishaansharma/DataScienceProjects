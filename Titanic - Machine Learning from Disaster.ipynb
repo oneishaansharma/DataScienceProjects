{
 "cells": [
  {
   "cell_type": "markdown",
   "metadata": {
    "id": "_tTHlJ6iM8cJ"
   },
   "source": [
    "# Titanic: Machine Learning from Disaster\n",
    "\n",
    "The sinking of the RMS Titanic is one of the most infamous shipwrecks in history.  On April 15, 1912, during her maiden voyage, the Titanic sank after colliding with an iceberg, killing 1502 out of 2224 passengers and crew. This sensational tragedy shocked the international community and led to better safety regulations for ships.\n",
    "\n",
    "One of the reasons that the shipwreck led to such loss of life was that there were not enough lifeboats for the passengers and crew. Although there was some element of luck involved in surviving the sinking, some groups of people were more likely to survive than others, such as women, children, and the upper-class.\n",
    "\n"
   ]
  },
  {
   "cell_type": "markdown",
   "metadata": {
    "id": "xm7UyiblM8cM"
   },
   "source": [
    "## Goal\n",
    "\n",
    "In this notebook, I will find insights from the data by using **pandas** to analyze and manipulate the data and **matplotlib** and **seaborn** for data visualization. I will apply a logistic regression model to predict which passengers are more likely to survive in a separate test set. "
   ]
  },
  {
   "cell_type": "code",
   "execution_count": 2,
   "metadata": {
    "id": "JSB1D5caM8cN"
   },
   "outputs": [],
   "source": [
    "# importing libraries\n",
    "import os\n",
    "import io\n",
    "import warnings\n",
    "\n",
    "import numpy as np\n",
    "import scipy as sp\n",
    "import pandas as pd\n",
    "import sklearn as sk\n",
    "\n",
    "import matplotlib as mpl\n",
    "import matplotlib.pyplot as plt\n",
    "%matplotlib inline\n",
    "import seaborn as sns\n",
    "sns.set()\n",
    "\n",
    "warnings.simplefilter(action='ignore', category=FutureWarning)"
   ]
  },
  {
   "cell_type": "code",
   "execution_count": 3,
   "metadata": {
    "colab": {
     "base_uri": "https://localhost:8080/",
     "height": 204
    },
    "id": "iVLifp0IM8cQ",
    "outputId": "34bf851e-f021-4e57-84ac-ee6c61030fd5"
   },
   "outputs": [
    {
     "data": {
      "text/html": [
       "<div>\n",
       "<style scoped>\n",
       "    .dataframe tbody tr th:only-of-type {\n",
       "        vertical-align: middle;\n",
       "    }\n",
       "\n",
       "    .dataframe tbody tr th {\n",
       "        vertical-align: top;\n",
       "    }\n",
       "\n",
       "    .dataframe thead th {\n",
       "        text-align: right;\n",
       "    }\n",
       "</style>\n",
       "<table border=\"1\" class=\"dataframe\">\n",
       "  <thead>\n",
       "    <tr style=\"text-align: right;\">\n",
       "      <th></th>\n",
       "      <th>PassengerId</th>\n",
       "      <th>Survived</th>\n",
       "      <th>Pclass</th>\n",
       "      <th>Name</th>\n",
       "      <th>Sex</th>\n",
       "      <th>Age</th>\n",
       "      <th>SibSp</th>\n",
       "      <th>Parch</th>\n",
       "      <th>Ticket</th>\n",
       "      <th>Fare</th>\n",
       "      <th>Cabin</th>\n",
       "      <th>Embarked</th>\n",
       "    </tr>\n",
       "  </thead>\n",
       "  <tbody>\n",
       "    <tr>\n",
       "      <th>0</th>\n",
       "      <td>1</td>\n",
       "      <td>0</td>\n",
       "      <td>3</td>\n",
       "      <td>Braund, Mr. Owen Harris</td>\n",
       "      <td>male</td>\n",
       "      <td>22.0</td>\n",
       "      <td>1</td>\n",
       "      <td>0</td>\n",
       "      <td>A/5 21171</td>\n",
       "      <td>7.2500</td>\n",
       "      <td>NaN</td>\n",
       "      <td>S</td>\n",
       "    </tr>\n",
       "    <tr>\n",
       "      <th>1</th>\n",
       "      <td>2</td>\n",
       "      <td>1</td>\n",
       "      <td>1</td>\n",
       "      <td>Cumings, Mrs. John Bradley (Florence Briggs Th...</td>\n",
       "      <td>female</td>\n",
       "      <td>38.0</td>\n",
       "      <td>1</td>\n",
       "      <td>0</td>\n",
       "      <td>PC 17599</td>\n",
       "      <td>71.2833</td>\n",
       "      <td>C85</td>\n",
       "      <td>C</td>\n",
       "    </tr>\n",
       "    <tr>\n",
       "      <th>2</th>\n",
       "      <td>3</td>\n",
       "      <td>1</td>\n",
       "      <td>3</td>\n",
       "      <td>Heikkinen, Miss. Laina</td>\n",
       "      <td>female</td>\n",
       "      <td>26.0</td>\n",
       "      <td>0</td>\n",
       "      <td>0</td>\n",
       "      <td>STON/O2. 3101282</td>\n",
       "      <td>7.9250</td>\n",
       "      <td>NaN</td>\n",
       "      <td>S</td>\n",
       "    </tr>\n",
       "    <tr>\n",
       "      <th>3</th>\n",
       "      <td>4</td>\n",
       "      <td>1</td>\n",
       "      <td>1</td>\n",
       "      <td>Futrelle, Mrs. Jacques Heath (Lily May Peel)</td>\n",
       "      <td>female</td>\n",
       "      <td>35.0</td>\n",
       "      <td>1</td>\n",
       "      <td>0</td>\n",
       "      <td>113803</td>\n",
       "      <td>53.1000</td>\n",
       "      <td>C123</td>\n",
       "      <td>S</td>\n",
       "    </tr>\n",
       "    <tr>\n",
       "      <th>4</th>\n",
       "      <td>5</td>\n",
       "      <td>0</td>\n",
       "      <td>3</td>\n",
       "      <td>Allen, Mr. William Henry</td>\n",
       "      <td>male</td>\n",
       "      <td>35.0</td>\n",
       "      <td>0</td>\n",
       "      <td>0</td>\n",
       "      <td>373450</td>\n",
       "      <td>8.0500</td>\n",
       "      <td>NaN</td>\n",
       "      <td>S</td>\n",
       "    </tr>\n",
       "  </tbody>\n",
       "</table>\n",
       "</div>"
      ],
      "text/plain": [
       "   PassengerId  Survived  Pclass  ...     Fare Cabin  Embarked\n",
       "0            1         0       3  ...   7.2500   NaN         S\n",
       "1            2         1       1  ...  71.2833   C85         C\n",
       "2            3         1       3  ...   7.9250   NaN         S\n",
       "3            4         1       1  ...  53.1000  C123         S\n",
       "4            5         0       3  ...   8.0500   NaN         S\n",
       "\n",
       "[5 rows x 12 columns]"
      ]
     },
     "metadata": {
      "tags": []
     },
     "output_type": "display_data"
    }
   ],
   "source": [
    "# load data\n",
    "titanic = pd.read_csv('https://raw.githubusercontent.com/zariable/data/master/titanic_train.csv')\n",
    "display(titanic.head())\n",
    "\n"
   ]
  },
  {
   "cell_type": "markdown",
   "metadata": {
    "id": "vXplTCIeM8cT"
   },
   "source": [
    "## Description of the data set\n",
    "Here's a brief description of each column in the data.\n",
    "\n",
    "- PassengerID: A column added by Kaggle to identify each row and make submissions easier\n",
    "- Survived: Whether the passenger survived or not and the value we are predicting (0=No, 1=Yes)\n",
    "- Pclass: The class of the ticket the passenger purchased (1=1st, 2=2nd, 3=3rd)\n",
    "- Sex: The passenger's sex\n",
    "- Age: The passenger's age in years\n",
    "- SibSp: The number of siblings or spouses the passenger had aboard the Titanic\n",
    "- Parch: The number of parents or children the passenger had aboard the Titanic\n",
    "- Ticket: The passenger's ticket number\n",
    "- Fare: The fare the passenger paid\n",
    "- Cabin: The passenger's cabin number\n",
    "- Embarked: The port where the passenger embarked (C=Cherbourg, Q=Queenstown, S=Southampton)"
   ]
  },
  {
   "cell_type": "code",
   "execution_count": 4,
   "metadata": {
    "colab": {
     "base_uri": "https://localhost:8080/",
     "height": 390
    },
    "id": "hdmTDZGYM8cT",
    "outputId": "fa2370d5-aa3d-48e8-ecf8-612f563b0abb"
   },
   "outputs": [
    {
     "data": {
      "text/html": [
       "<div>\n",
       "<style scoped>\n",
       "    .dataframe tbody tr th:only-of-type {\n",
       "        vertical-align: middle;\n",
       "    }\n",
       "\n",
       "    .dataframe tbody tr th {\n",
       "        vertical-align: top;\n",
       "    }\n",
       "\n",
       "    .dataframe thead th {\n",
       "        text-align: right;\n",
       "    }\n",
       "</style>\n",
       "<table border=\"1\" class=\"dataframe\">\n",
       "  <thead>\n",
       "    <tr style=\"text-align: right;\">\n",
       "      <th></th>\n",
       "      <th>PassengerId</th>\n",
       "      <th>Survived</th>\n",
       "      <th>Pclass</th>\n",
       "      <th>Name</th>\n",
       "      <th>Sex</th>\n",
       "      <th>Age</th>\n",
       "      <th>SibSp</th>\n",
       "      <th>Parch</th>\n",
       "      <th>Ticket</th>\n",
       "      <th>Fare</th>\n",
       "      <th>Cabin</th>\n",
       "      <th>Embarked</th>\n",
       "    </tr>\n",
       "  </thead>\n",
       "  <tbody>\n",
       "    <tr>\n",
       "      <th>count</th>\n",
       "      <td>891.000000</td>\n",
       "      <td>891.000000</td>\n",
       "      <td>891.000000</td>\n",
       "      <td>891</td>\n",
       "      <td>891</td>\n",
       "      <td>714.000000</td>\n",
       "      <td>891.000000</td>\n",
       "      <td>891.000000</td>\n",
       "      <td>891</td>\n",
       "      <td>891.000000</td>\n",
       "      <td>204</td>\n",
       "      <td>889</td>\n",
       "    </tr>\n",
       "    <tr>\n",
       "      <th>unique</th>\n",
       "      <td>NaN</td>\n",
       "      <td>NaN</td>\n",
       "      <td>NaN</td>\n",
       "      <td>891</td>\n",
       "      <td>2</td>\n",
       "      <td>NaN</td>\n",
       "      <td>NaN</td>\n",
       "      <td>NaN</td>\n",
       "      <td>681</td>\n",
       "      <td>NaN</td>\n",
       "      <td>147</td>\n",
       "      <td>3</td>\n",
       "    </tr>\n",
       "    <tr>\n",
       "      <th>top</th>\n",
       "      <td>NaN</td>\n",
       "      <td>NaN</td>\n",
       "      <td>NaN</td>\n",
       "      <td>Pain, Dr. Alfred</td>\n",
       "      <td>male</td>\n",
       "      <td>NaN</td>\n",
       "      <td>NaN</td>\n",
       "      <td>NaN</td>\n",
       "      <td>1601</td>\n",
       "      <td>NaN</td>\n",
       "      <td>G6</td>\n",
       "      <td>S</td>\n",
       "    </tr>\n",
       "    <tr>\n",
       "      <th>freq</th>\n",
       "      <td>NaN</td>\n",
       "      <td>NaN</td>\n",
       "      <td>NaN</td>\n",
       "      <td>1</td>\n",
       "      <td>577</td>\n",
       "      <td>NaN</td>\n",
       "      <td>NaN</td>\n",
       "      <td>NaN</td>\n",
       "      <td>7</td>\n",
       "      <td>NaN</td>\n",
       "      <td>4</td>\n",
       "      <td>644</td>\n",
       "    </tr>\n",
       "    <tr>\n",
       "      <th>mean</th>\n",
       "      <td>446.000000</td>\n",
       "      <td>0.383838</td>\n",
       "      <td>2.308642</td>\n",
       "      <td>NaN</td>\n",
       "      <td>NaN</td>\n",
       "      <td>29.699118</td>\n",
       "      <td>0.523008</td>\n",
       "      <td>0.381594</td>\n",
       "      <td>NaN</td>\n",
       "      <td>32.204208</td>\n",
       "      <td>NaN</td>\n",
       "      <td>NaN</td>\n",
       "    </tr>\n",
       "    <tr>\n",
       "      <th>std</th>\n",
       "      <td>257.353842</td>\n",
       "      <td>0.486592</td>\n",
       "      <td>0.836071</td>\n",
       "      <td>NaN</td>\n",
       "      <td>NaN</td>\n",
       "      <td>14.526497</td>\n",
       "      <td>1.102743</td>\n",
       "      <td>0.806057</td>\n",
       "      <td>NaN</td>\n",
       "      <td>49.693429</td>\n",
       "      <td>NaN</td>\n",
       "      <td>NaN</td>\n",
       "    </tr>\n",
       "    <tr>\n",
       "      <th>min</th>\n",
       "      <td>1.000000</td>\n",
       "      <td>0.000000</td>\n",
       "      <td>1.000000</td>\n",
       "      <td>NaN</td>\n",
       "      <td>NaN</td>\n",
       "      <td>0.420000</td>\n",
       "      <td>0.000000</td>\n",
       "      <td>0.000000</td>\n",
       "      <td>NaN</td>\n",
       "      <td>0.000000</td>\n",
       "      <td>NaN</td>\n",
       "      <td>NaN</td>\n",
       "    </tr>\n",
       "    <tr>\n",
       "      <th>25%</th>\n",
       "      <td>223.500000</td>\n",
       "      <td>0.000000</td>\n",
       "      <td>2.000000</td>\n",
       "      <td>NaN</td>\n",
       "      <td>NaN</td>\n",
       "      <td>20.125000</td>\n",
       "      <td>0.000000</td>\n",
       "      <td>0.000000</td>\n",
       "      <td>NaN</td>\n",
       "      <td>7.910400</td>\n",
       "      <td>NaN</td>\n",
       "      <td>NaN</td>\n",
       "    </tr>\n",
       "    <tr>\n",
       "      <th>50%</th>\n",
       "      <td>446.000000</td>\n",
       "      <td>0.000000</td>\n",
       "      <td>3.000000</td>\n",
       "      <td>NaN</td>\n",
       "      <td>NaN</td>\n",
       "      <td>28.000000</td>\n",
       "      <td>0.000000</td>\n",
       "      <td>0.000000</td>\n",
       "      <td>NaN</td>\n",
       "      <td>14.454200</td>\n",
       "      <td>NaN</td>\n",
       "      <td>NaN</td>\n",
       "    </tr>\n",
       "    <tr>\n",
       "      <th>75%</th>\n",
       "      <td>668.500000</td>\n",
       "      <td>1.000000</td>\n",
       "      <td>3.000000</td>\n",
       "      <td>NaN</td>\n",
       "      <td>NaN</td>\n",
       "      <td>38.000000</td>\n",
       "      <td>1.000000</td>\n",
       "      <td>0.000000</td>\n",
       "      <td>NaN</td>\n",
       "      <td>31.000000</td>\n",
       "      <td>NaN</td>\n",
       "      <td>NaN</td>\n",
       "    </tr>\n",
       "    <tr>\n",
       "      <th>max</th>\n",
       "      <td>891.000000</td>\n",
       "      <td>1.000000</td>\n",
       "      <td>3.000000</td>\n",
       "      <td>NaN</td>\n",
       "      <td>NaN</td>\n",
       "      <td>80.000000</td>\n",
       "      <td>8.000000</td>\n",
       "      <td>6.000000</td>\n",
       "      <td>NaN</td>\n",
       "      <td>512.329200</td>\n",
       "      <td>NaN</td>\n",
       "      <td>NaN</td>\n",
       "    </tr>\n",
       "  </tbody>\n",
       "</table>\n",
       "</div>"
      ],
      "text/plain": [
       "        PassengerId    Survived      Pclass  ...        Fare Cabin  Embarked\n",
       "count    891.000000  891.000000  891.000000  ...  891.000000   204       889\n",
       "unique          NaN         NaN         NaN  ...         NaN   147         3\n",
       "top             NaN         NaN         NaN  ...         NaN    G6         S\n",
       "freq            NaN         NaN         NaN  ...         NaN     4       644\n",
       "mean     446.000000    0.383838    2.308642  ...   32.204208   NaN       NaN\n",
       "std      257.353842    0.486592    0.836071  ...   49.693429   NaN       NaN\n",
       "min        1.000000    0.000000    1.000000  ...    0.000000   NaN       NaN\n",
       "25%      223.500000    0.000000    2.000000  ...    7.910400   NaN       NaN\n",
       "50%      446.000000    0.000000    3.000000  ...   14.454200   NaN       NaN\n",
       "75%      668.500000    1.000000    3.000000  ...   31.000000   NaN       NaN\n",
       "max      891.000000    1.000000    3.000000  ...  512.329200   NaN       NaN\n",
       "\n",
       "[11 rows x 12 columns]"
      ]
     },
     "execution_count": 4,
     "metadata": {
      "tags": []
     },
     "output_type": "execute_result"
    }
   ],
   "source": [
    "titanic.describe(include='all')"
   ]
  },
  {
   "cell_type": "markdown",
   "metadata": {
    "id": "zqrQG_NpM8cW"
   },
   "source": [
    "### **1: Find the number of missing values for each column.**\n",
    "The first step in data analysis is to identify columns with missing data. Can you find the columns in this data with missing value as well as the number of records with missing value for each column?  "
   ]
  },
  {
   "cell_type": "code",
   "execution_count": 5,
   "metadata": {
    "colab": {
     "base_uri": "https://localhost:8080/",
     "height": 563
    },
    "id": "q-yVQIkVM8cW",
    "outputId": "b077a686-6d13-4082-b4d1-b9226d165745"
   },
   "outputs": [
    {
     "name": "stdout",
     "output_type": "stream",
     "text": [
      "PassengerId      0\n",
      "Survived         0\n",
      "Pclass           0\n",
      "Name             0\n",
      "Sex              0\n",
      "Age            177\n",
      "SibSp            0\n",
      "Parch            0\n",
      "Ticket           0\n",
      "Fare             0\n",
      "Cabin          687\n",
      "Embarked         2\n",
      "dtype: int64\n"
     ]
    },
    {
     "data": {
      "text/plain": [
       "<matplotlib.axes._subplots.AxesSubplot at 0x7f110f445a20>"
      ]
     },
     "execution_count": 5,
     "metadata": {
      "tags": []
     },
     "output_type": "execute_result"
    },
    {
     "data": {
      "image/png": "[encoded data removed]",
      "text/plain": [
       "<Figure size 432x288 with 1 Axes>"
      ]
     },
     "metadata": {
      "tags": []
     },
     "output_type": "display_data"
    }
   ],
   "source": [
    "# TODO\n",
    "\n",
    "print(titanic.isna().sum())\n",
    "# titanic.columns\n",
    "\n",
    "# nacount = { titanic.loc[0,x]:count(titanic.loc[:,x].isna()) for x in titanic.columns }\n",
    "\n",
    "# nacount\n",
    "\n",
    "# heatmap\n",
    "sns.heatmap(titanic.isnull(),yticklabels=False,cbar=False,cmap='viridis')\n"
   ]
  },
  {
   "cell_type": "markdown",
   "metadata": {
    "id": "dyv7SbkjM8cY"
   },
   "source": [
    "### **2: Impute missing values.**\n",
    "Now we've identified the following columns with missing values: _Age_, _Cabin_ and _Embarked_. As the next step, we want to impute those missing values. There are three ways to impute the missing values:\n",
    "- A constant value that has meaning within the domain.\n",
    "- The mean, median or mode value based on non-missing values of that column.\n",
    "- A random value drawn from other non-missing values of that column.\n",
    "\n",
    "I will impute the missing values as follows:\n",
    "- the missing values of column _age_ with the mean of that column.\n",
    "- the missing values of column _Cabin_ with a constant value 'other'.\n",
    "- the missing values of column _Embarked_ with the [mode](https://pandas.pydata.org/pandas-docs/stable/generated/pandas.DataFrame.mode.html) of that column."
   ]
  },
  {
   "cell_type": "code",
   "execution_count": 6,
   "metadata": {
    "colab": {
     "base_uri": "https://localhost:8080/"
    },
    "id": "TfCy8py-M8cZ",
    "outputId": "f4f82ed5-13d4-4291-81b1-79c3d70ba902"
   },
   "outputs": [
    {
     "data": {
      "text/plain": [
       "0"
      ]
     },
     "execution_count": 6,
     "metadata": {
      "tags": []
     },
     "output_type": "execute_result"
    }
   ],
   "source": [
    "# TODO\n",
    "\n",
    "# Age\n",
    "\n",
    "titanic['Age'].isna().sum()\n",
    "mean = titanic['Age'].mean()\n",
    "mean\n",
    "titanic['Age'].fillna(mean, inplace = True)\n",
    "titanic['Age'].isna().sum()\n",
    "\n",
    "\n",
    "# Cabin\n",
    "titanic['Cabin'].isna().sum()\n",
    "titanic['Cabin'].fillna(\"other\", inplace = True)\n",
    "titanic['Cabin'].isna().sum()\n",
    "\n",
    "\n",
    "\n",
    "# Embarked\n",
    "titanic['Embarked'].isna().sum()\n",
    "\n",
    "mode = titanic.mode()['Embarked'][0]\n",
    "titanic['Embarked'].fillna(value = mode,inplace=True)\n",
    "\n",
    "titanic['Embarked'].isna().sum()\n",
    "\n",
    "\n"
   ]
  },
  {
   "cell_type": "markdown",
   "metadata": {
    "id": "slueIatrM8cb"
   },
   "source": [
    "### **3: Find the name of the person who has the 16th most expensive ticket**"
   ]
  },
  {
   "cell_type": "code",
   "execution_count": 7,
   "metadata": {
    "colab": {
     "base_uri": "https://localhost:8080/",
     "height": 35
    },
    "id": "U9TFxZAfM8cc",
    "outputId": "72ff5e5d-88dc-45ff-b59a-fa78268fd03a"
   },
   "outputs": [
    {
     "data": {
      "application/vnd.google.colaboratory.intrinsic+json": {
       "type": "string"
      },
      "text/plain": [
       "'Farthing, Mr. John'"
      ]
     },
     "execution_count": 7,
     "metadata": {
      "tags": []
     },
     "output_type": "execute_result"
    }
   ],
   "source": [
    "# TODO\n",
    "\n",
    "titanic.sort_values('Fare',ascending=False)['Name'].iloc[15]"
   ]
  },
  {
   "cell_type": "markdown",
   "metadata": {
    "id": "upj1tS2AM8ce"
   },
   "source": [
    "### **4: Out of all the females who survived, what's the name who has the 6th most expensive ticket?**"
   ]
  },
  {
   "cell_type": "code",
   "execution_count": 8,
   "metadata": {
    "colab": {
     "base_uri": "https://localhost:8080/",
     "height": 35
    },
    "id": "tXywVrsoM8ce",
    "outputId": "5389a035-5c18-4fd8-f972-371007508e4c"
   },
   "outputs": [
    {
     "data": {
      "application/vnd.google.colaboratory.intrinsic+json": {
       "type": "string"
      },
      "text/plain": [
       "'Baxter, Mrs. James (Helene DeLaudeniere Chaput)'"
      ]
     },
     "execution_count": 8,
     "metadata": {
      "tags": []
     },
     "output_type": "execute_result"
    }
   ],
   "source": [
    "# TODO\n",
    "titanic[(titanic['Sex']==\"female\") & (titanic['Survived']==1) ].sort_values('Fare',ascending=False)['Name'].iloc[5]\n",
    "# titanic[(titanic['Sex']==\"female\") ].sort_values('Fare',ascending=False)['Name'].iloc[5]"
   ]
  },
  {
   "cell_type": "markdown",
   "metadata": {
    "id": "oXaAaaY3M8cg"
   },
   "source": [
    "### **5: Examine the survival rate**\n",
    "Calculate the survival rate for different gender and Pclass combination and use a couple of sentences to describe your findings. Hint: pivot_table is your friend."
   ]
  },
  {
   "cell_type": "code",
   "execution_count": 9,
   "metadata": {
    "colab": {
     "base_uri": "https://localhost:8080/"
    },
    "id": "GsBOqDRvM8ch",
    "outputId": "747d40ce-a31a-47a8-a63c-1aff0c6e81e7"
   },
   "outputs": [
    {
     "name": "stdout",
     "output_type": "stream",
     "text": [
      "Pclass         1         2         3     Total\n",
      "Sex                                           \n",
      "female  0.968085  0.921053  0.500000  0.742038\n",
      "male    0.368852  0.157407  0.135447  0.188908\n",
      "Total   0.629630  0.472826  0.242363  0.383838\n"
     ]
    }
   ],
   "source": [
    "# TODO\n",
    "pvtbl = titanic.pivot_table('Survived', index='Sex', columns='Pclass', aggfunc='mean' ,margins=True, margins_name=\"Total\")\n",
    "print(pvtbl)\n",
    "\n",
    "\n",
    "# Pivot Table Unstack\n",
    "\n",
    "# print(pvtbl.unstack(level=0))\n",
    "\n",
    "# Females survived at 74% as against 18% for men.\n",
    "# 62% of class 1 passengers survived, 47% of class 2 and a mere 24% of the 3rd class\n",
    "# males in the 2nd and 3rd classes were especially hard hit\n"
   ]
  },
  {
   "cell_type": "markdown",
   "metadata": {
    "id": "Jl8IY-XjM8cj"
   },
   "source": [
    "### **6: Is Age or Fare an important factor to one's chance of survival?**\n",
    "Visualize the distribution of Column _Age_ for both survived and non-survived population and write down your findings based on the visualization."
   ]
  },
  {
   "cell_type": "markdown",
   "metadata": {
    "id": "w9klNap_hmSc"
   },
   "source": [
    "\n",
    "\n",
    "\n",
    "\n",
    "\n",
    "1.   Highest Percentage of Pclass 3 did not Survive\n",
    "2.   Age is a significant factor, children have higher survival rate.\n",
    "3.   Sex is a significant factor, women have higher survival rate.\n"
   ]
  },
  {
   "cell_type": "code",
   "execution_count": 93,
   "metadata": {
    "colab": {
     "base_uri": "https://localhost:8080/",
     "height": 301
    },
    "id": "yica7x96M8ck",
    "outputId": "43f11d2e-857a-4de3-8280-6c2c4e669a33"
   },
   "outputs": [
    {
     "data": {
      "text/plain": [
       "Text(0.5, 1.0, 'Fare Class Distribution')"
      ]
     },
     "execution_count": 93,
     "metadata": {
      "tags": []
     },
     "output_type": "execute_result"
    },
    {
     "data": {
      "image/png": "[encoded data removed]",
      "text/plain": [
       "<Figure size 432x288 with 2 Axes>"
      ]
     },
     "metadata": {
      "tags": []
     },
     "output_type": "display_data"
    }
   ],
   "source": [
    "# TODO\n",
    "\n",
    "sns.set()\n",
    "# plt.plot(titanic[titanic['Survived']==1]['Age'])\n",
    "\n",
    "# Age vs Survival\n",
    "\n",
    "plt.subplot(1,2,1)\n",
    "plt.hist(titanic[titanic['Survived']==1]['Age'], bins=20, color='r')\n",
    "plt.hist(titanic[titanic['Survived']==0]['Age'], bins=20, alpha=0.3, color='b')\n",
    "plt.legend([\"Survivors\",\"Casualties\"], loc='upper right', fancybox=True)\n",
    "plt.title(label=\"Age Distribution\")\n",
    "\n",
    "# ptS = titanic.pivot_table('Survived', index='Age')\n",
    "# ptD = titanic.pivot_table('Survived', index='Age')\n",
    "# pt.plot(kind='line')\n",
    "\n",
    "# Fare Class vs Survival\n",
    "\n",
    "plt.subplot(1,2,2)\n",
    "plt.hist(titanic[titanic['Survived']==1]['Pclass'], bins=10, color='r')\n",
    "plt.hist(titanic[titanic['Survived']==0]['Pclass'], bins=10, alpha=0.3, color='b')\n",
    "plt.legend([\"Survivors\",\"Casualties\"], loc='upper right', fancybox=True)\n",
    "plt.title(label=\"Fare Class Distribution\")\n",
    "\n"
   ]
  },
  {
   "cell_type": "code",
   "execution_count": 11,
   "metadata": {
    "colab": {
     "base_uri": "https://localhost:8080/",
     "height": 301
    },
    "id": "Wvmk9NRhlJPO",
    "outputId": "d44bf2d9-a47e-4136-c52f-fc45827a7c6d"
   },
   "outputs": [
    {
     "data": {
      "text/plain": [
       "Text(0.5, 1.0, 'Sex Distribution')"
      ]
     },
     "execution_count": 11,
     "metadata": {
      "tags": []
     },
     "output_type": "execute_result"
    },
    {
     "data": {
      "image/png": "[encoded data removed]",
      "text/plain": [
       "<Figure size 432x288 with 1 Axes>"
      ]
     },
     "metadata": {
      "tags": []
     },
     "output_type": "display_data"
    }
   ],
   "source": [
    "plt.hist(titanic[titanic['Survived']==1]['Sex'], bins=10, color='r')\n",
    "plt.hist(titanic[titanic['Survived']==0]['Sex'], bins=10, alpha=0.3, color='b')\n",
    "plt.legend([\"Survivors\",\"Casualties\"], loc='upper right', fancybox=True)\n",
    "plt.title(label=\"Sex Distribution\")\n"
   ]
  },
  {
   "cell_type": "markdown",
   "metadata": {
    "id": "DiigUZriM8cl"
   },
   "source": [
    "### **Question 7: Calculate and visualize the survival rate for discrete columns**\n",
    "- Calculate the survival rate for column _SibSp_ and _Parch_.\n",
    "- Use sns.barplot to visualize the survival rate for column _SibSp_ and _Parch_."
   ]
  },
  {
   "cell_type": "code",
   "execution_count": 12,
   "metadata": {
    "colab": {
     "base_uri": "https://localhost:8080/",
     "height": 1000
    },
    "id": "DqHs4imSM8cm",
    "outputId": "7629d988-f375-416f-e96a-3d589a3b9ef4"
   },
   "outputs": [
    {
     "name": "stdout",
     "output_type": "stream",
     "text": [
      "<seaborn.axisgrid.FacetGrid object at 0x7f1110af35f8>\n",
      "<seaborn.axisgrid.FacetGrid object at 0x7f1105ed4710>\n"
     ]
    },
    {
     "data": {
      "image/png": "[encoded data removed]",
      "text/plain": [
       "<Figure size 432x288 with 1 Axes>"
      ]
     },
     "metadata": {
      "tags": []
     },
     "output_type": "display_data"
    },
    {
     "data": {
      "image/png": "[encoded data removed]",
      "text/plain": [
       "<Figure size 360x360 with 1 Axes>"
      ]
     },
     "metadata": {
      "tags": []
     },
     "output_type": "display_data"
    },
    {
     "data": {
      "image/png": "[encoded data removed]",
      "text/plain": [
       "<Figure size 360x360 with 1 Axes>"
      ]
     },
     "metadata": {
      "tags": []
     },
     "output_type": "display_data"
    }
   ],
   "source": [
    "# TODO\n",
    "\n",
    "\n",
    "# SibSp: The number of siblings or spouses the passenger had aboard the Titanic\n",
    "# Parch: The number of parents or children the passenger had aboard the Titanic\n",
    "\n",
    "titanic.pivot_table('Survived', index='SibSp', columns='Parch', margins_name=\"total\", margins=True )\n",
    "\n",
    "# titanic.pivot_table('Survived', index=['SibSp','Parch'], columns='Parch' margins=False )\n",
    "# print(p)\n",
    "# plt.subplot(1,2,1)\n",
    "# p.plot(kind='bar')\n",
    "\n",
    "# pivot_table(titanic,)\n",
    "\n",
    "# titanic.pivot_table('Survived', index='Parch', margins=False )\n",
    "# # print(p)\n",
    "# plt.subplot(1,2,2)\n",
    "# p.plot(kind='bar')\n",
    "\n",
    "# distribution of SibSp\n",
    "sns.countplot(x='SibSp',data=titanic)\n",
    "\n",
    "\n",
    "# sns.barplot(x='SibSp', y='Survived', data=titanic)\n",
    "g = sns.catplot(x='SibSp', y='Survived', data=titanic, kind='bar')\n",
    "print(g)\n",
    "# g.set_xticklabels(step=5)\n",
    "\n",
    "\n",
    "sns.countplot(x='Parch',data=titanic)\n",
    "\n",
    "g = sns.catplot(x='Parch', y='Survived', data=titanic, kind='bar')\n",
    "print(g)\n",
    "\n",
    "\n",
    "\n",
    "\n",
    "\n"
   ]
  },
  {
   "cell_type": "markdown",
   "metadata": {
    "id": "WwOkr4k1M8co"
   },
   "source": [
    "### **Question 8: Find the correlations.**\n",
    "Find the correlations between the feature and the target variable _Survived_ and use heatmap to visualize it. Summarize your findings."
   ]
  },
  {
   "cell_type": "code",
   "execution_count": 13,
   "metadata": {
    "colab": {
     "base_uri": "https://localhost:8080/",
     "height": 387
    },
    "id": "WyANNhL6M8co",
    "outputId": "aca29145-fe76-4dbc-fb39-44ad0052f734"
   },
   "outputs": [
    {
     "name": "stdout",
     "output_type": "stream",
     "text": [
      "          Survived    Pclass       Sex       Age     SibSp     Parch\n",
      "Survived  1.000000 -0.338481 -0.543351 -0.069809 -0.035322  0.081629\n",
      "Pclass   -0.338481  1.000000  0.131900 -0.331339  0.083081  0.018443\n",
      "Sex      -0.543351  0.131900  1.000000  0.084153 -0.114631 -0.245489\n",
      "Age      -0.069809 -0.331339  0.084153  1.000000 -0.232625 -0.179191\n",
      "SibSp    -0.035322  0.083081 -0.114631 -0.232625  1.000000  0.414838\n",
      "Parch     0.081629  0.018443 -0.245489 -0.179191  0.414838  1.000000\n"
     ]
    },
    {
     "data": {
      "image/png": "[encoded data removed]",
      "text/plain": [
       "<Figure size 432x288 with 2 Axes>"
      ]
     },
     "metadata": {
      "tags": []
     },
     "output_type": "display_data"
    }
   ],
   "source": [
    "# TODO\n",
    "\n",
    "titanic\n",
    "heat= titanic.drop(['Embarked','PassengerId','Name','Fare','Ticket',\t'Cabin'], axis = 1)\n",
    "\n",
    "# impute categorical variables to integers\n",
    "heat['Sex'].replace(to_replace='male', value=1, inplace=True)\n",
    "heat['Sex'].replace(to_replace='female', value=0, inplace=True)\n",
    "\n",
    "\n",
    "# heat['Embarked'].replace(to_replace='S', value=1, inplace=True)\n",
    "# heat['Embarked'].replace(to_replace='Q', value=2, inplace=True)\n",
    "# heat['Embarked'].replace(to_replace='C', value=3, inplace=True)\n",
    "\n",
    "\n",
    "# heat['Pclass'].replace(to_replace=1, value=10, inplace=True)\n",
    "# heat['Pclass'].replace(to_replace=2, value=5, inplace=True)\n",
    "# heat['Pclass'].replace(to_replace=3, value=2, inplace=True)\n",
    "\n",
    "\n",
    "\n",
    "# \n",
    "# print(heat.corr())\n",
    "\n",
    "\n",
    "masked = np.triu(np.ones_like(heat.corr(), dtype=np.bool))\n",
    "\n",
    "print(heat.corr())\n",
    "\n",
    "\n",
    "sns.heatmap(heat.corr(),  mask=masked, annot=heat.corr())\n",
    "plt.show()\n",
    "\n",
    "# Sex and Survival had a negative correlation, i.e. men were less likely to survive\n",
    "# Passenger Class and Survival had a negative correlation, i.e. numerically lower class was more likely to survive \n",
    "# As expected Parch and SibSp are strongly correlated\n"
   ]
  },
  {
   "cell_type": "markdown",
   "metadata": {
    "id": "VPA-huNqM8cr"
   },
   "source": [
    "### **Question 9: Any other insights do you draw by analyzing the data? Summarize the findings as well as provide the code leading you to the findings.**"
   ]
  },
  {
   "cell_type": "code",
   "execution_count": 14,
   "metadata": {
    "colab": {
     "base_uri": "https://localhost:8080/",
     "height": 611
    },
    "id": "RbUR4eVqM8cr",
    "outputId": "05fed41d-408e-425c-c2f9-0c8f12cecd7a"
   },
   "outputs": [
    {
     "data": {
      "text/plain": [
       "<matplotlib.axes._subplots.AxesSubplot at 0x7f1105a2b978>"
      ]
     },
     "execution_count": 14,
     "metadata": {
      "tags": []
     },
     "output_type": "execute_result"
    },
    {
     "data": {
      "image/png": "[encoded data removed]",
      "text/plain": [
       "<Figure size 1440x720 with 4 Axes>"
      ]
     },
     "metadata": {
      "tags": []
     },
     "output_type": "display_data"
    }
   ],
   "source": [
    "# TODO\n",
    "\n",
    "\n",
    "plt.figure(figsize=(20,10))\n",
    "\n",
    "# Other exploratory analysis\n",
    "# visualize survival \n",
    "\n",
    "plt.subplot(2,5,1)\n",
    "sns.countplot(x='Survived',data=titanic)\n",
    "\n",
    "plt.subplot(2,5,3)\n",
    "sns.countplot(x='Survived',data=titanic, hue='Sex')\n",
    "\n",
    "\n",
    "plt.subplot(2,5,5)\n",
    "sns.countplot(x='Survived',data=titanic, hue='Pclass')\n",
    "\n",
    "\n",
    "plt.subplot(2,5,6)\n",
    "# sns.distplot(titanic['Age'],kde=False,bins=10,color=\"B\")\n",
    "titanic['Age'].plot.hist(bins=10)\n",
    "\n",
    "# titanic.isna().sum()\n",
    "\n",
    "\n",
    "\n",
    "# sns.pairplot(heat, hue='Survived')\n",
    "# plt.show()\n",
    "\n",
    "\n",
    "\n",
    "\n"
   ]
  },
  {
   "cell_type": "markdown",
   "metadata": {
    "id": "WN7aJgCAM8ct"
   },
   "source": [
    "\n",
    "### **Bonus Point: Build a ML model to predict survival.**\n",
    "Can you build a logistic regression model to predict the probability of survival for all the passengers in this [file](https://raw.githubusercontent.com/zariable/data/master/titanic_test.csv)? You can evaluate your model accuracy on [Kaggle](https://www.kaggle.com/c/titanic). Can you think of any other ways to improve the model performance? Implement your idea to see if it actually works. "
   ]
  },
  {
   "cell_type": "markdown",
   "metadata": {
    "id": "NP9GwRf6g8g6"
   },
   "source": [
    "Tried the following:\n",
    "\n",
    "1: Simple Logistic Regression (CART) - Accuracy-> 76.55% \n",
    "\n",
    "\n",
    "2: Random Forest - Accuracy-> 76.076% \n",
    "\n",
    "\n",
    "3: Gradient Boosting Algorithm - Accuracy-> 78.46% "
   ]
  },
  {
   "cell_type": "code",
   "execution_count": 92,
   "metadata": {
    "colab": {
     "base_uri": "https://localhost:8080/",
     "height": 221
    },
    "id": "dJ7Cdt2PM8cu",
    "outputId": "9ecdd041-afcd-4824-8db8-1c58b774cec0"
   },
   "outputs": [
    {
     "name": "stderr",
     "output_type": "stream",
     "text": [
      "/usr/local/lib/python3.6/dist-packages/sklearn/linear_model/_logistic.py:940: ConvergenceWarning: lbfgs failed to converge (status=1):\n",
      "STOP: TOTAL NO. of ITERATIONS REACHED LIMIT.\n",
      "\n",
      "Increase the number of iterations (max_iter) or scale the data as shown in:\n",
      "    https://scikit-learn.org/stable/modules/preprocessing.html\n",
      "Please also refer to the documentation for alternative solver options:\n",
      "    https://scikit-learn.org/stable/modules/linear_model.html#logistic-regression\n",
      "  extra_warning_msg=_LOGISTIC_SOLVER_CONVERGENCE_MSG)\n"
     ]
    },
    {
     "name": "stdout",
     "output_type": "stream",
     "text": [
      "The best score is 0.809203142536476\n",
      "The best hyper parameter setting is {'max_depth': 8, 'min_samples_split': 0.05, 'n_estimators': 20}\n"
     ]
    },
    {
     "data": {
      "application/javascript": "\n    async function download(id, filename, size) {\n      if (!google.colab.kernel.accessAllowed) {\n        return;\n      }\n      const div = document.createElement('div');\n      const label = document.createElement('label');\n      label.textContent = `Downloading \"${filename}\": `;\n      div.appendChild(label);\n      const progress = document.createElement('progress');\n      progress.max = size;\n      div.appendChild(progress);\n      document.body.appendChild(div);\n\n      const buffers = [];\n      let downloaded = 0;\n\n      const channel = await google.colab.kernel.comms.open(id);\n      // Send a message to notify the kernel that we're ready.\n      channel.send({})\n\n      for await (const message of channel.messages) {\n        // Send a message to notify the kernel that we're ready.\n        channel.send({})\n        if (message.buffers) {\n          for (const buffer of message.buffers) {\n            buffers.push(buffer);\n            downloaded += buffer.byteLength;\n            progress.value = downloaded;\n          }\n        }\n      }\n      const blob = new Blob(buffers, {type: 'application/binary'});\n      const a = document.createElement('a');\n      a.href = window.URL.createObjectURL(blob);\n      a.download = filename;\n      div.appendChild(a);\n      a.click();\n      div.remove();\n    }\n  ",
      "text/plain": [
       "<IPython.core.display.Javascript object>"
      ]
     },
     "metadata": {
      "tags": []
     },
     "output_type": "display_data"
    },
    {
     "data": {
      "application/javascript": "download(\"download_1cc8f44b-4184-403a-9320-e0ed49957006\", \"titanic_submission_gbc.csv\", 4402)",
      "text/plain": [
       "<IPython.core.display.Javascript object>"
      ]
     },
     "metadata": {
      "tags": []
     },
     "output_type": "display_data"
    },
    {
     "name": "stdout",
     "output_type": "stream",
     "text": [
      "The best score is 0.819304152637486\n",
      "The best hyper parameter setting is {'learning_rate': 0.01, 'max_depth': 4, 'min_samples_split': 0.05, 'n_estimators': 200}\n"
     ]
    }
   ],
   "source": [
    "# TODO\n",
    "\n",
    "# evaluation metrics\n",
    "from sklearn.metrics import mean_squared_error\n",
    "from sklearn.metrics import r2_score\n",
    "from sklearn.metrics import accuracy_score\n",
    "from sklearn.metrics import roc_auc_score\n",
    "\n",
    "# grid search for model selection\n",
    "from sklearn.model_selection import GridSearchCV\n",
    "\n",
    "# linear regression\n",
    "from sklearn.linear_model import LinearRegression\n",
    "\n",
    "# logistic regression\n",
    "from sklearn.linear_model import LogisticRegression\n",
    "\n",
    "# decision tree\n",
    "from sklearn.tree import DecisionTreeClassifier\n",
    "from sklearn.tree import DecisionTreeRegressor\n",
    "\n",
    "#gradientBoost\n",
    "from sklearn.ensemble import GradientBoostingClassifier\n",
    "from sklearn.ensemble import GradientBoostingRegressor\n",
    "\n",
    "# RandomForest\n",
    "from sklearn.ensemble import RandomForestClassifier\n",
    "from sklearn.ensemble import RandomForestRegressor\n",
    "\n",
    "import random\n",
    "\n",
    "warnings.simplefilter(action='ignore', category=FutureWarning)\n",
    "random.seed(101)\n",
    "\n",
    "\n",
    "# # load data\n",
    "# titanic_new = pd.read_csv('https://raw.githubusercontent.com/zariable/data/master/titanic_train.csv')\n",
    "\n",
    "# display(titanic.head())\n",
    "\n",
    "\n",
    "train= titanic.drop(['PassengerId','Name','Ticket', 'Cabin'], axis = 1)\n",
    "\n",
    "# replace sex with 1,0\n",
    "train['Sex'].replace(to_replace='male', value=1, inplace=True)\n",
    "train['Sex'].replace(to_replace='female', value=0, inplace=True)\n",
    "\n",
    "\n",
    "# 'Embarked'\n",
    "embark = pd.get_dummies(train['Embarked'], drop_first= True)\n",
    "\n",
    "train = pd.concat([train,embark],axis=1)\n",
    "\n",
    "train.drop(['Embarked'], axis=1,  inplace= True)\n",
    "\n",
    "\n",
    "train.head()\n",
    "\n",
    "\n",
    "\n",
    "\n",
    "# Finalize training set\n",
    "train_x = train.drop(['Survived'], axis=1)\n",
    "train_y = train['Survived']\n",
    "\n",
    "\n",
    "# print(y)\n",
    "\n",
    "\n",
    "# train\n",
    "#initialize model\n",
    "logmod = LogisticRegression()\n",
    "\n",
    "#fit training data\n",
    "logmod.fit(train_x,train_y)\n",
    "\n",
    "\n",
    "\n",
    "\n",
    "# import test file\n",
    "test = pd.read_csv('https://raw.githubusercontent.com/zariable/data/master/titanic_test.csv')\n",
    "\n",
    "\n",
    "###########################################################\n",
    "\n",
    "# clean data impute missing values\n",
    "# print(test.isna().sum())\n",
    "\n",
    "\n",
    "\n",
    "# 20% of age data is missing in test, replace with mean \n",
    "# test['Age'].fillna(mean, inplace = True)\n",
    "# test.isna().sum()/len(test)\n",
    "\n",
    "test['Age'].fillna(mean, inplace = True)\n",
    "\n",
    "\n",
    "test['Fare'].fillna(mean, inplace = True)\n",
    "\n",
    "\n",
    "test['Sex'].replace(to_replace='male', value=1, inplace=True)\n",
    "test['Sex'].replace(to_replace='female', value=0, inplace=True)\n",
    "\n",
    "\n",
    "\n",
    "\n",
    "pid = test['PassengerId']\n",
    "# print(pid.head())\n",
    "\n",
    "test = test.drop(['PassengerId','Name','Ticket'], axis = 1)\n",
    "\n",
    "\n",
    "embark_test = pd.get_dummies(test['Embarked'], drop_first=True)\n",
    "\n",
    "test = pd.concat([test,embark_test], axis=1)\n",
    "\n",
    "test.drop(['Embarked','Cabin'], axis=1, inplace=True)\n",
    "\n",
    "\n",
    "################################################################\n",
    "\n",
    "\n",
    "# print(train_x.head())\n",
    "# print(test.head())\n",
    "\n",
    "\n",
    "\n",
    "# Use \n",
    "\n",
    "\n",
    "pred_log_reg = logmod.predict(test)\n",
    "\n",
    "pred_log_reg = pd.DataFrame(pred_log_reg )\n",
    "pred_log_reg .rename(columns={0: \"Survived\"}, inplace=True)\n",
    "# print(pred_log_reg .head())\n",
    "pred_log_reg ['PassengerId'] = pid\n",
    "pred_log_reg  = pred_log_reg [[\"PassengerId\",\"Survived\"]]\n",
    "# print(pred_log_reg.head())\n",
    "\n",
    "\n",
    "# from google.colab import files\n",
    "\n",
    "# pred_log_reg.to_csv(\"titanic_submission_log_reg.csv\")\n",
    "\n",
    "# files.download(\"titanic_submission_log_reg.csv\")\n",
    "\n",
    "\n",
    "\n",
    "\n",
    "# Random Forest classifier using grid search with cross-validation (GridSearchCV)\n",
    "\n",
    "\n",
    "\n",
    "parameters = {\n",
    "    \"max_depth\":[2,4,8],\n",
    "    \"min_samples_split\":[0.05,0.1,0.2],\n",
    "    \"n_estimators\":[5,10,20]\n",
    "}\n",
    "rfc = RandomForestClassifier()\n",
    "rfc_grid = GridSearchCV(rfc, parameters, cv=3)\n",
    "rfc_grid.fit(train_x,train_y)\n",
    "\n",
    "\n",
    "\n",
    "pred_rand_for = rfc_grid.predict(test)\n",
    "\n",
    "pred_rand_for = pd.DataFrame(pred_rand_for )\n",
    "pred_rand_for.rename(columns={0: \"Survived\"}, inplace=True)\n",
    "# print(pred_log_reg .head())\n",
    "pred_rand_for['PassengerId'] = pid\n",
    "pred_rand_for = pred_rand_for[[\"PassengerId\",\"Survived\"]]\n",
    "# print(pred_log_reg.head())\n",
    "\n",
    "\n",
    "# summarize the results of the grid search\n",
    "print(\"The best score is {}\".format(rfc_grid.best_score_))\n",
    "print(\"The best hyper parameter setting is {}\".format(rfc_grid.best_params_))\n",
    "\n",
    "\n",
    "\n",
    "\n",
    "# from google.colab import files\n",
    "\n",
    "# pred_rand_for.to_csv(\"titanic_submission_rand_for.csv\")\n",
    "\n",
    "# files.download(\"titanic_submission_rand_for.csv\")\n",
    "\n",
    "\n",
    "\n",
    "\n",
    "\n",
    "\n",
    "\n",
    "\n",
    "# Train Gradient Boosted Tree Model\n",
    "\n",
    "parameters={\n",
    "    \"learning_rate\":[.01,.1,1],\n",
    "    \"n_estimators\":[50,100,200],\n",
    "    \"max_depth\":[2,4],\n",
    "    \"min_samples_split\":[0.05, 0.1]\n",
    "}\n",
    "\n",
    "\n",
    "\n",
    "gbc = GradientBoostingClassifier(random_state=0)\n",
    "gbc_grid = GridSearchCV(gbc, parameters, cv = 3)\n",
    "gbc_grid.fit(train_x,train_y)\n",
    "\n",
    "pred_gradient_boost = gbc_grid.predict(test)\n",
    "pred_gradient_boost = pd.DataFrame(pred_gradient_boost)\n",
    "pred_gradient_boost.rename(columns={0: \"Survived\"}, inplace=True)\n",
    "# print(pred_gradient_boost.head())\n",
    "pred_gradient_boost['PassengerId'] = pid\n",
    "pred_gradient_boost = pred_gradient_boost[[\"PassengerId\",\"Survived\"]]\n",
    "# print(pred_gradient_boost)\n",
    "\n",
    "\n",
    "from google.colab import files\n",
    "\n",
    "pred_gradient_boost.to_csv(\"titanic_submission_gbc.csv\")\n",
    "\n",
    "files.download(\"titanic_submission_gbc.csv\")\n",
    "\n",
    "\n",
    "# summarize the results of the grid search\n",
    "print(\"The best score is {}\".format(gbc_grid.best_score_))\n",
    "print(\"The best hyper parameter setting is {}\".format(gbc_grid.best_params_))\n",
    "\n",
    "\n"
   ]
  }
 ],
 "metadata": {
  "colab": {
   "collapsed_sections": [],
   "name": "MSIS522_Assignment1.ipynb",
   "provenance": [],
   "toc_visible": true
  },
  "kernelspec": {
   "display_name": "Python 3",
   "language": "python",
   "name": "python3"
  },
  "language_info": {
   "codemirror_mode": {
    "name": "ipython",
    "version": 3
   },
   "file_extension": ".py",
   "mimetype": "text/x-python",
   "name": "python",
   "nbconvert_exporter": "python",
   "pygments_lexer": "ipython3",
   "version": "3.8.5"
  }
 },
 "nbformat": 4,
 "nbformat_minor": 4
}
